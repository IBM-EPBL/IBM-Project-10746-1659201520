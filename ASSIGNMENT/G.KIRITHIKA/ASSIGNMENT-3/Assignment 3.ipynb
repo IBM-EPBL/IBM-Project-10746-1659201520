{
 "cells": [
  {
   "cell_type": "code",
   "execution_count": 1,
   "id": "5633e454",
   "metadata": {},
   "outputs": [
    {
     "name": "stdout",
     "output_type": "stream",
     "text": [
      "2401\n"
     ]
    }
   ],
   "source": [
    "print(pow(7,4))"
   ]
  },
  {
   "cell_type": "code",
   "execution_count": 3,
   "id": "ff0c1938",
   "metadata": {},
   "outputs": [
    {
     "name": "stdout",
     "output_type": "stream",
     "text": [
      "['Hi', 'there', 'Sam!']\n"
     ]
    }
   ],
   "source": [
    "s = \"Hi there Sam!\"\n",
    "print (s.split())"
   ]
  },
  {
   "cell_type": "code",
   "execution_count": 4,
   "id": "533abae1",
   "metadata": {},
   "outputs": [
    {
     "name": "stdout",
     "output_type": "stream",
     "text": [
      "The diameter of Earth is 12742 kilometers \n"
     ]
    }
   ],
   "source": [
    "planet = \"Earth\"\n",
    "diameter = 12742\n",
    "print (\"The diameter of {} is {} kilometers \".format(planet,diameter))"
   ]
  },
  {
   "cell_type": "code",
   "execution_count": 6,
   "id": "4fe72abb",
   "metadata": {},
   "outputs": [
    {
     "ename": "SyntaxError",
     "evalue": "invalid syntax (1213123001.py, line 1)",
     "output_type": "error",
     "traceback": [
      "\u001b[1;36m  Input \u001b[1;32mIn [6]\u001b[1;36m\u001b[0m\n\u001b[1;33m    1st = [1,2,[3,4],[5,[100,200,[\"hello\"]],23,11],1,7]\u001b[0m\n\u001b[1;37m     ^\u001b[0m\n\u001b[1;31mSyntaxError\u001b[0m\u001b[1;31m:\u001b[0m invalid syntax\n"
     ]
    }
   ],
   "source": [
    "1st = [1,2,[3,4],[5,[100,200,[\"hello\"]],23,11],1,7]\n",
    "print(1st[3][1][2])"
   ]
  },
  {
   "cell_type": "code",
   "execution_count": 8,
   "id": "bf95e0df",
   "metadata": {},
   "outputs": [
    {
     "name": "stdout",
     "output_type": "stream",
     "text": [
      "hello\n"
     ]
    }
   ],
   "source": [
    "d ={'k1':[1,2,3,{'tricky':['oh','man','inception',{'target':[1,2,3,'hello']}]}]}\n",
    "print(d['k1'][3]['tricky'][3]['target'][3])"
   ]
  },
  {
   "cell_type": "code",
   "execution_count": 9,
   "id": "d4390dcd",
   "metadata": {},
   "outputs": [],
   "source": [
    "#tuple are immutable byut list are mutable\n",
    "#tuples are denoted in () and list are denoted as []"
   ]
  },
  {
   "cell_type": "code",
   "execution_count": 13,
   "id": "751e0c6a",
   "metadata": {},
   "outputs": [],
   "source": [
    "user@domain.com"
   ]
  },
  {
   "cell_type": "code",
   "execution_count": 26,
   "id": "62103ca6",
   "metadata": {},
   "outputs": [
    {
     "name": "stdout",
     "output_type": "stream",
     "text": [
      "Please enter your mail: >user@domain.com\n"
     ]
    }
   ],
   "source": [
    "def domainGet(email):\n",
    "    print(\"Your domain is:\"+ email.split('@')[-1])\n",
    "    \n",
    "email = input(\"Please enter your mail: >\")"
   ]
  },
  {
   "cell_type": "code",
   "execution_count": 28,
   "id": "8d8d3767",
   "metadata": {},
   "outputs": [
    {
     "ename": "SyntaxError",
     "evalue": "invalid syntax (2611897898.py, line 1)",
     "output_type": "error",
     "traceback": [
      "\u001b[1;36m  Input \u001b[1;32mIn [28]\u001b[1;36m\u001b[0m\n\u001b[1;33m    []  domainGet('user@domain.com')\u001b[0m\n\u001b[1;37m        ^\u001b[0m\n\u001b[1;31mSyntaxError\u001b[0m\u001b[1;31m:\u001b[0m invalid syntax\n"
     ]
    }
   ],
   "source": [
    "[]  domainGet('user@domain.com')"
   ]
  },
  {
   "cell_type": "code",
   "execution_count": 25,
   "id": "c88d2654",
   "metadata": {},
   "outputs": [
    {
     "name": "stdout",
     "output_type": "stream",
     "text": [
      "true\n"
     ]
    }
   ],
   "source": [
    "def findDog(st):\n",
    "    if 'dog' in st.lower():\n",
    "            print(\"true\")\n",
    "    else:\n",
    "            print(\"false\")\n",
    "            \n",
    "st = \"Is there a dog here?\"\n",
    "findDog(st)"
   ]
  },
  {
   "cell_type": "code",
   "execution_count": 29,
   "id": "2f72c00f",
   "metadata": {},
   "outputs": [
    {
     "name": "stdout",
     "output_type": "stream",
     "text": [
      "true\n"
     ]
    }
   ],
   "source": [
    "findDog('Is there a dog here?')"
   ]
  },
  {
   "cell_type": "code",
   "execution_count": 33,
   "id": "95e67ef3",
   "metadata": {},
   "outputs": [
    {
     "name": "stdout",
     "output_type": "stream",
     "text": [
      "1\n",
      "2\n"
     ]
    }
   ],
   "source": [
    "value = 'This dog runs faster than the other dog dude!';\n",
    "\n",
    "def countdogs(value):\n",
    "    count = 0\n",
    "    for word in value.lower().split():\n",
    "        if word == 'dog' or word == 'dogs':\n",
    "            count = count + 1\n",
    "            print (count)\n",
    "        \n",
    "countdogs(value)        "
   ]
  },
  {
   "cell_type": "code",
   "execution_count": 34,
   "id": "b59c33a3",
   "metadata": {},
   "outputs": [],
   "source": [
    "def caught_speeding(speed, is_birthday):\n",
    "    \n",
    "    if is_birthday:\n",
    "        speeding = speed - 5\n",
    "    else:\n",
    "        speeding = speed\n",
    "        \n",
    "    if speeding >80:\n",
    "        return 'Big Ticket'\n",
    "    elif speeding > 60:\n",
    "        return 'Small Ticket'\n",
    "    else:\n",
    "        return 'No Ticket'"
   ]
  },
  {
   "cell_type": "code",
   "execution_count": 36,
   "id": "51a13e72",
   "metadata": {},
   "outputs": [
    {
     "name": "stdout",
     "output_type": "stream",
     "text": [
      "salary of 1st person is 400\n",
      "salary of 2nd person is 500\n",
      "salary of 3rd person is 550\n",
      "salary of 4th person is 600\n",
      "salary of 5th person is 250\n",
      "The total salary is 2300\n"
     ]
    }
   ],
   "source": [
    "employee=[400,500,550,600,250]\n",
    "sum=0\n",
    "print (\"salary of 1st person is\",employee [0])\n",
    "print (\"salary of 2nd person is\",employee [1])\n",
    "print (\"salary of 3rd person is\",employee [2])\n",
    "print (\"salary of 4th person is\",employee [3])\n",
    "print (\"salary of 5th person is\",employee [4])\n",
    "for x in employee:\n",
    "    sum=sum+x\n",
    "print(\"The total salary is\",sum)"
   ]
  },
  {
   "cell_type": "code",
   "execution_count": 37,
   "id": "b3c68711",
   "metadata": {},
   "outputs": [
    {
     "name": "stdout",
     "output_type": "stream",
     "text": [
      "{'Empid': 1, 'Empname': 'abc', 'basicpay': 10000, 'Deptname': 'cse', 'Deptid': 2}\n"
     ]
    }
   ],
   "source": [
    "d1={'Empid':1,'Empname':\"abc\",'basicpay':10000}\n",
    "d2={'Deptname':'cse','Deptid':2}\n",
    "\n",
    "print({**d1, **d2})"
   ]
  },
  {
   "cell_type": "code",
   "execution_count": null,
   "id": "52dd5ce4",
   "metadata": {},
   "outputs": [],
   "source": []
  }
 ],
 "metadata": {
  "kernelspec": {
   "display_name": "Python 3 (ipykernel)",
   "language": "python",
   "name": "python3"
  },
  "language_info": {
   "codemirror_mode": {
    "name": "ipython",
    "version": 3
   },
   "file_extension": ".py",
   "mimetype": "text/x-python",
   "name": "python",
   "nbconvert_exporter": "python",
   "pygments_lexer": "ipython3",
   "version": "3.9.12"
  }
 },
 "nbformat": 4,
 "nbformat_minor": 5
}
